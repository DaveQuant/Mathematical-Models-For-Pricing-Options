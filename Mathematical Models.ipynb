{
 "cells": [
  {
   "cell_type": "markdown",
   "metadata": {},
   "source": [
    "1. Consider a Cox-Ross-Rubinstein binomial tree model with the expected value of relative stock return $(S(t) - S(t-1))/S(t-1)$ equal to $0.02$, and variance equal to $0.0216$. Suppose the up factor is $u = 1.2$\n",
    "\n",
    "    Compute the value of the down factor $d$\n",
    "\n",
    "    We got that\n",
    "    $E\\left[\\frac{S(t) - S(t-1)}{S(t-1)}\\right] = 0.02$, $Var\\left[\\frac{S(t) - S(t-1)}{S(t-1)}\\right] = 0.0216$ and $p_u = \\frac{e^{r\\Delta t} - d}{u - d}$\n",
    "\n",
    "    Under the model of CRR we know that the distribution underlying random variable corresponds to a bernulli distribution so:\n",
    "    $$\n",
    "    E\\left[\\frac{S(t) - S(t-1)}{S(t-1)}\\right] = p (u-1) + (1-p)(d-1)\n",
    "    $$\n",
    "\n",
    "    for any random variable \n",
    "    $$\n",
    "        Var(X) = E[X^2] - E[X]^2\n",
    "    $$\n",
    "\n",
    "    therefor is easy to show that\n",
    "    $$\n",
    "        E\\left[\\left(\\frac{S(t) - S(t-1)}{S(t-1)}\\right)^2\\right] = p (u-1)^2 + (1-p)(d-1)^2\n",
    "    $$\n",
    "\n"
   ]
  }
 ],
 "metadata": {
  "language_info": {
   "name": "python"
  }
 },
 "nbformat": 4,
 "nbformat_minor": 2
}

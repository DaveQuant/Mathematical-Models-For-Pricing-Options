{
 "cells": [
  {
   "cell_type": "markdown",
   "metadata": {},
   "source": [
    "1. Consider a Cox-Ross-Rubinstein binomial tree model with the expected value of relative stock return $(S(t) - S(t-1))/S(t-1)$ equal to $0.02$, and variance equal to $0.0216$. Suppose the up factor is $u = 1.2$\n",
    "\n",
    "    Compute the value of the down factor $d$\n",
    "\n",
    "    We got that\n",
    "    $E\\left[\\frac{S(t) - S(t-1)}{S(t-1)}\\right] = 0.02$, $Var\\left[\\frac{S(t) - S(t-1)}{S(t-1)}\\right] = 0.0216$ and $p_u = \\frac{e^{r\\Delta t} - d}{u - d}$"
   ]
  },
  {
   "cell_type": "code",
   "execution_count": null,
   "metadata": {
    "vscode": {
     "languageId": "plaintext"
    }
   },
   "outputs": [],
   "source": []
  }
 ],
 "metadata": {
  "language_info": {
   "name": "python"
  }
 },
 "nbformat": 4,
 "nbformat_minor": 2
}
